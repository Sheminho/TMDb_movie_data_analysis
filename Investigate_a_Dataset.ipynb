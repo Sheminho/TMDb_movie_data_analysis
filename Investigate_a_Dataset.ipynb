{
 "cells": [
  {
   "cell_type": "markdown",
   "metadata": {},
   "source": [
    "# Project: Investigate a Dataset - [Database_TMDb_movie_data]\n",
    "\n",
    "## Table of Contents\n",
    "<ul>\n",
    "<li><a href=\"#intro\">Introduction</a></li>\n",
    "<li><a href=\"#wrangling\">Data Wrangling</a></li>\n",
    "<li><a href=\"#eda\">Exploratory Data Analysis</a></li>\n",
    "<li><a href=\"#conclusions\">Conclusions</a></li>\n",
    "</ul>"
   ]
  },
  {
   "cell_type": "markdown",
   "metadata": {},
   "source": [
    "<a id='intro'></a>\n",
    "## Introduction\n",
    "\n",
    "### Dataset Description \n",
    "\n",
    "> I have selected the **Database_TMDb_movie_data** to investigate it and explore the correlations between the varies things on it like the popularity and the budget, if the budget bigger is that mean that the popularity will be big, is the profit is an indecator for the popularity of the movie and is there a corelation between the popularity and votes and who are the top rated directors and actors and so on\n",
    "\n",
    "\n",
    "#### Question(s) for Analysis\n",
    "<ul>\n",
    "<li>First question after importing and wrangling the data is what is the profit of every film to use it to find the correlations in the coming questions and you will see it <a href=\"#Q1\">here</a></li>\n",
    "<li>Also it is important for me to know the most popular and top rated directors and actors and you will find it <a href=\"#Q2\">here</a> and <a href=\"#Q5\">here</a></li>\n",
    "<li>Finally it is important to know the difference between the film production before the 2000s and after 2000s in some questions like <a href=\"#Q3\">here</a></li> and <a href=\"#Q4\">here</a></li>\n",
    "</ul>"
   ]
  },
  {
   "cell_type": "markdown",
   "metadata": {},
   "source": [
    "### importing Liberaries and DataFrame\n",
    ">This section is to import the necessary liberaries and DataFrame"
   ]
  },
  {
   "cell_type": "code",
   "execution_count": 1,
   "metadata": {},
   "outputs": [],
   "source": [
    "import pandas as pd\n",
    "import numpy as np\n",
    "import matplotlib.pyplot as plt\n",
    "%matplotlib inline"
   ]
  },
  {
   "cell_type": "code",
   "execution_count": 2,
   "metadata": {},
   "outputs": [],
   "source": [
    "df = pd.read_csv('Database_TMDb_movie_data/tmdb-movies.csv')"
   ]
  },
  {
   "cell_type": "markdown",
   "metadata": {},
   "source": [
    "<a id='wrangling'></a>\n",
    "## Data Wrangling section\n",
    "> In this section we will do some gathering, assessing and cleaning to the data to be more suatable and easy to analyse"
   ]
  },
  {
   "cell_type": "code",
   "execution_count": 3,
   "metadata": {},
   "outputs": [
    {
     "data": {
      "text/plain": [
       "(10866, 21)"
      ]
     },
     "execution_count": 3,
     "metadata": {},
     "output_type": "execute_result"
    }
   ],
   "source": [
    "df.shape"
   ]
  },
  {
   "cell_type": "markdown",
   "metadata": {},
   "source": [
    "Now we know that the data has more than 10K observations and 21 column.\n",
    "\n",
    "Lets look at the first 5 observations."
   ]
  },
  {
   "cell_type": "code",
   "execution_count": 4,
   "metadata": {
    "scrolled": true
   },
   "outputs": [
    {
     "data": {
      "text/html": [
       "<div>\n",
       "<style scoped>\n",
       "    .dataframe tbody tr th:only-of-type {\n",
       "        vertical-align: middle;\n",
       "    }\n",
       "\n",
       "    .dataframe tbody tr th {\n",
       "        vertical-align: top;\n",
       "    }\n",
       "\n",
       "    .dataframe thead th {\n",
       "        text-align: right;\n",
       "    }\n",
       "</style>\n",
       "<table border=\"1\" class=\"dataframe\">\n",
       "  <thead>\n",
       "    <tr style=\"text-align: right;\">\n",
       "      <th></th>\n",
       "      <th>id</th>\n",
       "      <th>imdb_id</th>\n",
       "      <th>popularity</th>\n",
       "      <th>budget</th>\n",
       "      <th>revenue</th>\n",
       "      <th>original_title</th>\n",
       "      <th>cast</th>\n",
       "      <th>homepage</th>\n",
       "      <th>director</th>\n",
       "      <th>tagline</th>\n",
       "      <th>...</th>\n",
       "      <th>overview</th>\n",
       "      <th>runtime</th>\n",
       "      <th>genres</th>\n",
       "      <th>production_companies</th>\n",
       "      <th>release_date</th>\n",
       "      <th>vote_count</th>\n",
       "      <th>vote_average</th>\n",
       "      <th>release_year</th>\n",
       "      <th>budget_adj</th>\n",
       "      <th>revenue_adj</th>\n",
       "    </tr>\n",
       "  </thead>\n",
       "  <tbody>\n",
       "    <tr>\n",
       "      <th>0</th>\n",
       "      <td>135397</td>\n",
       "      <td>tt0369610</td>\n",
       "      <td>32.985763</td>\n",
       "      <td>150000000</td>\n",
       "      <td>1513528810</td>\n",
       "      <td>Jurassic World</td>\n",
       "      <td>Chris Pratt|Bryce Dallas Howard|Irrfan Khan|Vi...</td>\n",
       "      <td>http://www.jurassicworld.com/</td>\n",
       "      <td>Colin Trevorrow</td>\n",
       "      <td>The park is open.</td>\n",
       "      <td>...</td>\n",
       "      <td>Twenty-two years after the events of Jurassic ...</td>\n",
       "      <td>124</td>\n",
       "      <td>Action|Adventure|Science Fiction|Thriller</td>\n",
       "      <td>Universal Studios|Amblin Entertainment|Legenda...</td>\n",
       "      <td>6/9/15</td>\n",
       "      <td>5562</td>\n",
       "      <td>6.5</td>\n",
       "      <td>2015</td>\n",
       "      <td>1.379999e+08</td>\n",
       "      <td>1.392446e+09</td>\n",
       "    </tr>\n",
       "    <tr>\n",
       "      <th>1</th>\n",
       "      <td>76341</td>\n",
       "      <td>tt1392190</td>\n",
       "      <td>28.419936</td>\n",
       "      <td>150000000</td>\n",
       "      <td>378436354</td>\n",
       "      <td>Mad Max: Fury Road</td>\n",
       "      <td>Tom Hardy|Charlize Theron|Hugh Keays-Byrne|Nic...</td>\n",
       "      <td>http://www.madmaxmovie.com/</td>\n",
       "      <td>George Miller</td>\n",
       "      <td>What a Lovely Day.</td>\n",
       "      <td>...</td>\n",
       "      <td>An apocalyptic story set in the furthest reach...</td>\n",
       "      <td>120</td>\n",
       "      <td>Action|Adventure|Science Fiction|Thriller</td>\n",
       "      <td>Village Roadshow Pictures|Kennedy Miller Produ...</td>\n",
       "      <td>5/13/15</td>\n",
       "      <td>6185</td>\n",
       "      <td>7.1</td>\n",
       "      <td>2015</td>\n",
       "      <td>1.379999e+08</td>\n",
       "      <td>3.481613e+08</td>\n",
       "    </tr>\n",
       "    <tr>\n",
       "      <th>2</th>\n",
       "      <td>262500</td>\n",
       "      <td>tt2908446</td>\n",
       "      <td>13.112507</td>\n",
       "      <td>110000000</td>\n",
       "      <td>295238201</td>\n",
       "      <td>Insurgent</td>\n",
       "      <td>Shailene Woodley|Theo James|Kate Winslet|Ansel...</td>\n",
       "      <td>http://www.thedivergentseries.movie/#insurgent</td>\n",
       "      <td>Robert Schwentke</td>\n",
       "      <td>One Choice Can Destroy You</td>\n",
       "      <td>...</td>\n",
       "      <td>Beatrice Prior must confront her inner demons ...</td>\n",
       "      <td>119</td>\n",
       "      <td>Adventure|Science Fiction|Thriller</td>\n",
       "      <td>Summit Entertainment|Mandeville Films|Red Wago...</td>\n",
       "      <td>3/18/15</td>\n",
       "      <td>2480</td>\n",
       "      <td>6.3</td>\n",
       "      <td>2015</td>\n",
       "      <td>1.012000e+08</td>\n",
       "      <td>2.716190e+08</td>\n",
       "    </tr>\n",
       "    <tr>\n",
       "      <th>3</th>\n",
       "      <td>140607</td>\n",
       "      <td>tt2488496</td>\n",
       "      <td>11.173104</td>\n",
       "      <td>200000000</td>\n",
       "      <td>2068178225</td>\n",
       "      <td>Star Wars: The Force Awakens</td>\n",
       "      <td>Harrison Ford|Mark Hamill|Carrie Fisher|Adam D...</td>\n",
       "      <td>http://www.starwars.com/films/star-wars-episod...</td>\n",
       "      <td>J.J. Abrams</td>\n",
       "      <td>Every generation has a story.</td>\n",
       "      <td>...</td>\n",
       "      <td>Thirty years after defeating the Galactic Empi...</td>\n",
       "      <td>136</td>\n",
       "      <td>Action|Adventure|Science Fiction|Fantasy</td>\n",
       "      <td>Lucasfilm|Truenorth Productions|Bad Robot</td>\n",
       "      <td>12/15/15</td>\n",
       "      <td>5292</td>\n",
       "      <td>7.5</td>\n",
       "      <td>2015</td>\n",
       "      <td>1.839999e+08</td>\n",
       "      <td>1.902723e+09</td>\n",
       "    </tr>\n",
       "    <tr>\n",
       "      <th>4</th>\n",
       "      <td>168259</td>\n",
       "      <td>tt2820852</td>\n",
       "      <td>9.335014</td>\n",
       "      <td>190000000</td>\n",
       "      <td>1506249360</td>\n",
       "      <td>Furious 7</td>\n",
       "      <td>Vin Diesel|Paul Walker|Jason Statham|Michelle ...</td>\n",
       "      <td>http://www.furious7.com/</td>\n",
       "      <td>James Wan</td>\n",
       "      <td>Vengeance Hits Home</td>\n",
       "      <td>...</td>\n",
       "      <td>Deckard Shaw seeks revenge against Dominic Tor...</td>\n",
       "      <td>137</td>\n",
       "      <td>Action|Crime|Thriller</td>\n",
       "      <td>Universal Pictures|Original Film|Media Rights ...</td>\n",
       "      <td>4/1/15</td>\n",
       "      <td>2947</td>\n",
       "      <td>7.3</td>\n",
       "      <td>2015</td>\n",
       "      <td>1.747999e+08</td>\n",
       "      <td>1.385749e+09</td>\n",
       "    </tr>\n",
       "  </tbody>\n",
       "</table>\n",
       "<p>5 rows × 21 columns</p>\n",
       "</div>"
      ],
      "text/plain": [
       "       id    imdb_id  popularity     budget     revenue  \\\n",
       "0  135397  tt0369610   32.985763  150000000  1513528810   \n",
       "1   76341  tt1392190   28.419936  150000000   378436354   \n",
       "2  262500  tt2908446   13.112507  110000000   295238201   \n",
       "3  140607  tt2488496   11.173104  200000000  2068178225   \n",
       "4  168259  tt2820852    9.335014  190000000  1506249360   \n",
       "\n",
       "                 original_title  \\\n",
       "0                Jurassic World   \n",
       "1            Mad Max: Fury Road   \n",
       "2                     Insurgent   \n",
       "3  Star Wars: The Force Awakens   \n",
       "4                     Furious 7   \n",
       "\n",
       "                                                cast  \\\n",
       "0  Chris Pratt|Bryce Dallas Howard|Irrfan Khan|Vi...   \n",
       "1  Tom Hardy|Charlize Theron|Hugh Keays-Byrne|Nic...   \n",
       "2  Shailene Woodley|Theo James|Kate Winslet|Ansel...   \n",
       "3  Harrison Ford|Mark Hamill|Carrie Fisher|Adam D...   \n",
       "4  Vin Diesel|Paul Walker|Jason Statham|Michelle ...   \n",
       "\n",
       "                                            homepage          director  \\\n",
       "0                      http://www.jurassicworld.com/   Colin Trevorrow   \n",
       "1                        http://www.madmaxmovie.com/     George Miller   \n",
       "2     http://www.thedivergentseries.movie/#insurgent  Robert Schwentke   \n",
       "3  http://www.starwars.com/films/star-wars-episod...       J.J. Abrams   \n",
       "4                           http://www.furious7.com/         James Wan   \n",
       "\n",
       "                         tagline  ...  \\\n",
       "0              The park is open.  ...   \n",
       "1             What a Lovely Day.  ...   \n",
       "2     One Choice Can Destroy You  ...   \n",
       "3  Every generation has a story.  ...   \n",
       "4            Vengeance Hits Home  ...   \n",
       "\n",
       "                                            overview runtime  \\\n",
       "0  Twenty-two years after the events of Jurassic ...     124   \n",
       "1  An apocalyptic story set in the furthest reach...     120   \n",
       "2  Beatrice Prior must confront her inner demons ...     119   \n",
       "3  Thirty years after defeating the Galactic Empi...     136   \n",
       "4  Deckard Shaw seeks revenge against Dominic Tor...     137   \n",
       "\n",
       "                                      genres  \\\n",
       "0  Action|Adventure|Science Fiction|Thriller   \n",
       "1  Action|Adventure|Science Fiction|Thriller   \n",
       "2         Adventure|Science Fiction|Thriller   \n",
       "3   Action|Adventure|Science Fiction|Fantasy   \n",
       "4                      Action|Crime|Thriller   \n",
       "\n",
       "                                production_companies release_date vote_count  \\\n",
       "0  Universal Studios|Amblin Entertainment|Legenda...       6/9/15       5562   \n",
       "1  Village Roadshow Pictures|Kennedy Miller Produ...      5/13/15       6185   \n",
       "2  Summit Entertainment|Mandeville Films|Red Wago...      3/18/15       2480   \n",
       "3          Lucasfilm|Truenorth Productions|Bad Robot     12/15/15       5292   \n",
       "4  Universal Pictures|Original Film|Media Rights ...       4/1/15       2947   \n",
       "\n",
       "   vote_average  release_year    budget_adj   revenue_adj  \n",
       "0           6.5          2015  1.379999e+08  1.392446e+09  \n",
       "1           7.1          2015  1.379999e+08  3.481613e+08  \n",
       "2           6.3          2015  1.012000e+08  2.716190e+08  \n",
       "3           7.5          2015  1.839999e+08  1.902723e+09  \n",
       "4           7.3          2015  1.747999e+08  1.385749e+09  \n",
       "\n",
       "[5 rows x 21 columns]"
      ]
     },
     "execution_count": 4,
     "metadata": {},
     "output_type": "execute_result"
    }
   ],
   "source": [
    "df.head()"
   ]
  },
  {
   "cell_type": "markdown",
   "metadata": {},
   "source": [
    "lets take look at the columns names and data types and the number of the missing data on each one"
   ]
  },
  {
   "cell_type": "code",
   "execution_count": 5,
   "metadata": {},
   "outputs": [
    {
     "name": "stdout",
     "output_type": "stream",
     "text": [
      "<class 'pandas.core.frame.DataFrame'>\n",
      "RangeIndex: 10866 entries, 0 to 10865\n",
      "Data columns (total 21 columns):\n",
      " #   Column                Non-Null Count  Dtype  \n",
      "---  ------                --------------  -----  \n",
      " 0   id                    10866 non-null  int64  \n",
      " 1   imdb_id               10856 non-null  object \n",
      " 2   popularity            10866 non-null  float64\n",
      " 3   budget                10866 non-null  int64  \n",
      " 4   revenue               10866 non-null  int64  \n",
      " 5   original_title        10866 non-null  object \n",
      " 6   cast                  10790 non-null  object \n",
      " 7   homepage              2936 non-null   object \n",
      " 8   director              10822 non-null  object \n",
      " 9   tagline               8042 non-null   object \n",
      " 10  keywords              9373 non-null   object \n",
      " 11  overview              10862 non-null  object \n",
      " 12  runtime               10866 non-null  int64  \n",
      " 13  genres                10843 non-null  object \n",
      " 14  production_companies  9836 non-null   object \n",
      " 15  release_date          10866 non-null  object \n",
      " 16  vote_count            10866 non-null  int64  \n",
      " 17  vote_average          10866 non-null  float64\n",
      " 18  release_year          10866 non-null  int64  \n",
      " 19  budget_adj            10866 non-null  float64\n",
      " 20  revenue_adj           10866 non-null  float64\n",
      "dtypes: float64(4), int64(6), object(11)\n",
      "memory usage: 1.7+ MB\n"
     ]
    }
   ],
   "source": [
    "df.info()"
   ]
  },
  {
   "cell_type": "markdown",
   "metadata": {},
   "source": [
    "\n",
    "### Data Cleaning\n",
    "> After gathering the data seems that we have a many missing data on the 'tagline', 'homepage','Keywords' and 'production_companies' columns and we will not use them on our investigation so lets drop then"
   ]
  },
  {
   "cell_type": "code",
   "execution_count": 6,
   "metadata": {},
   "outputs": [],
   "source": [
    "df.drop(['homepage', 'tagline', 'keywords', 'production_companies'], axis=1, inplace=True)"
   ]
  },
  {
   "cell_type": "markdown",
   "metadata": {
    "collapsed": true
   },
   "source": [
    "Now we can drop all Null values from the dataframe"
   ]
  },
  {
   "cell_type": "code",
   "execution_count": 7,
   "metadata": {},
   "outputs": [],
   "source": [
    "df.dropna(inplace=True)"
   ]
  },
  {
   "cell_type": "markdown",
   "metadata": {},
   "source": [
    "Finally for cleaning the data let's take look at the number of duplicated values and drop them"
   ]
  },
  {
   "cell_type": "code",
   "execution_count": 8,
   "metadata": {},
   "outputs": [
    {
     "data": {
      "text/plain": [
       "1"
      ]
     },
     "execution_count": 8,
     "metadata": {},
     "output_type": "execute_result"
    }
   ],
   "source": [
    "df.duplicated().sum()"
   ]
  },
  {
   "cell_type": "code",
   "execution_count": 9,
   "metadata": {},
   "outputs": [],
   "source": [
    "df.drop_duplicates(inplace=True)"
   ]
  },
  {
   "cell_type": "code",
   "execution_count": 22,
   "metadata": {
    "scrolled": true
   },
   "outputs": [
    {
     "name": "stdout",
     "output_type": "stream",
     "text": [
      "<class 'pandas.core.frame.DataFrame'>\n",
      "Int64Index: 10724 entries, 0 to 10865\n",
      "Data columns (total 18 columns):\n",
      " #   Column          Non-Null Count  Dtype  \n",
      "---  ------          --------------  -----  \n",
      " 0   id              10724 non-null  int64  \n",
      " 1   imdb_id         10724 non-null  object \n",
      " 2   popularity      10724 non-null  float64\n",
      " 3   budget          10724 non-null  int64  \n",
      " 4   revenue         10724 non-null  int64  \n",
      " 5   original_title  10724 non-null  object \n",
      " 6   cast            10724 non-null  object \n",
      " 7   director        10724 non-null  object \n",
      " 8   overview        10724 non-null  object \n",
      " 9   runtime         10724 non-null  int64  \n",
      " 10  genres          10724 non-null  object \n",
      " 11  release_date    10724 non-null  object \n",
      " 12  vote_count      10724 non-null  int64  \n",
      " 13  vote_average    10724 non-null  float64\n",
      " 14  release_year    10724 non-null  int64  \n",
      " 15  budget_adj      10724 non-null  float64\n",
      " 16  revenue_adj     10724 non-null  float64\n",
      " 17  profit          10724 non-null  int64  \n",
      "dtypes: float64(4), int64(7), object(7)\n",
      "memory usage: 1.6+ MB\n"
     ]
    }
   ],
   "source": [
    "df.info()"
   ]
  },
  {
   "cell_type": "markdown",
   "metadata": {},
   "source": [
    "Now we have cleaned data without missing or duplicated values and ready to be explored"
   ]
  },
  {
   "cell_type": "markdown",
   "metadata": {},
   "source": [
    "<a id='eda'></a>\n",
    "## Exploring Data Section\n",
    "> After wrangling the data, In this section we will answer some questions by analysing the data to create some Conclusions about the dataframe.\n",
    "> All these questions is from my deep mind and of course you may have different questions so don't be restricted by this questions.\n",
    "\n",
    "<a id='Q1'></a>\n",
    "#### Q1: What is the profit for every film?"
   ]
  },
  {
   "cell_type": "code",
   "execution_count": 11,
   "metadata": {},
   "outputs": [],
   "source": [
    "#Creating new column named 'profit' equals the difference between the budget and the revenue of every film\n",
    "df['profit'] = df['revenue'] - df['budget']"
   ]
  },
  {
   "cell_type": "code",
   "execution_count": 12,
   "metadata": {
    "scrolled": true
   },
   "outputs": [
    {
     "data": {
      "text/html": [
       "<div>\n",
       "<style scoped>\n",
       "    .dataframe tbody tr th:only-of-type {\n",
       "        vertical-align: middle;\n",
       "    }\n",
       "\n",
       "    .dataframe tbody tr th {\n",
       "        vertical-align: top;\n",
       "    }\n",
       "\n",
       "    .dataframe thead th {\n",
       "        text-align: right;\n",
       "    }\n",
       "</style>\n",
       "<table border=\"1\" class=\"dataframe\">\n",
       "  <thead>\n",
       "    <tr style=\"text-align: right;\">\n",
       "      <th></th>\n",
       "      <th>id</th>\n",
       "      <th>imdb_id</th>\n",
       "      <th>popularity</th>\n",
       "      <th>budget</th>\n",
       "      <th>revenue</th>\n",
       "      <th>original_title</th>\n",
       "      <th>cast</th>\n",
       "      <th>director</th>\n",
       "      <th>overview</th>\n",
       "      <th>runtime</th>\n",
       "      <th>genres</th>\n",
       "      <th>release_date</th>\n",
       "      <th>vote_count</th>\n",
       "      <th>vote_average</th>\n",
       "      <th>release_year</th>\n",
       "      <th>budget_adj</th>\n",
       "      <th>revenue_adj</th>\n",
       "      <th>profit</th>\n",
       "    </tr>\n",
       "  </thead>\n",
       "  <tbody>\n",
       "    <tr>\n",
       "      <th>0</th>\n",
       "      <td>135397</td>\n",
       "      <td>tt0369610</td>\n",
       "      <td>32.985763</td>\n",
       "      <td>150000000</td>\n",
       "      <td>1513528810</td>\n",
       "      <td>Jurassic World</td>\n",
       "      <td>Chris Pratt|Bryce Dallas Howard|Irrfan Khan|Vi...</td>\n",
       "      <td>Colin Trevorrow</td>\n",
       "      <td>Twenty-two years after the events of Jurassic ...</td>\n",
       "      <td>124</td>\n",
       "      <td>Action|Adventure|Science Fiction|Thriller</td>\n",
       "      <td>6/9/15</td>\n",
       "      <td>5562</td>\n",
       "      <td>6.5</td>\n",
       "      <td>2015</td>\n",
       "      <td>1.379999e+08</td>\n",
       "      <td>1.392446e+09</td>\n",
       "      <td>1363528810</td>\n",
       "    </tr>\n",
       "    <tr>\n",
       "      <th>1</th>\n",
       "      <td>76341</td>\n",
       "      <td>tt1392190</td>\n",
       "      <td>28.419936</td>\n",
       "      <td>150000000</td>\n",
       "      <td>378436354</td>\n",
       "      <td>Mad Max: Fury Road</td>\n",
       "      <td>Tom Hardy|Charlize Theron|Hugh Keays-Byrne|Nic...</td>\n",
       "      <td>George Miller</td>\n",
       "      <td>An apocalyptic story set in the furthest reach...</td>\n",
       "      <td>120</td>\n",
       "      <td>Action|Adventure|Science Fiction|Thriller</td>\n",
       "      <td>5/13/15</td>\n",
       "      <td>6185</td>\n",
       "      <td>7.1</td>\n",
       "      <td>2015</td>\n",
       "      <td>1.379999e+08</td>\n",
       "      <td>3.481613e+08</td>\n",
       "      <td>228436354</td>\n",
       "    </tr>\n",
       "    <tr>\n",
       "      <th>2</th>\n",
       "      <td>262500</td>\n",
       "      <td>tt2908446</td>\n",
       "      <td>13.112507</td>\n",
       "      <td>110000000</td>\n",
       "      <td>295238201</td>\n",
       "      <td>Insurgent</td>\n",
       "      <td>Shailene Woodley|Theo James|Kate Winslet|Ansel...</td>\n",
       "      <td>Robert Schwentke</td>\n",
       "      <td>Beatrice Prior must confront her inner demons ...</td>\n",
       "      <td>119</td>\n",
       "      <td>Adventure|Science Fiction|Thriller</td>\n",
       "      <td>3/18/15</td>\n",
       "      <td>2480</td>\n",
       "      <td>6.3</td>\n",
       "      <td>2015</td>\n",
       "      <td>1.012000e+08</td>\n",
       "      <td>2.716190e+08</td>\n",
       "      <td>185238201</td>\n",
       "    </tr>\n",
       "    <tr>\n",
       "      <th>3</th>\n",
       "      <td>140607</td>\n",
       "      <td>tt2488496</td>\n",
       "      <td>11.173104</td>\n",
       "      <td>200000000</td>\n",
       "      <td>2068178225</td>\n",
       "      <td>Star Wars: The Force Awakens</td>\n",
       "      <td>Harrison Ford|Mark Hamill|Carrie Fisher|Adam D...</td>\n",
       "      <td>J.J. Abrams</td>\n",
       "      <td>Thirty years after defeating the Galactic Empi...</td>\n",
       "      <td>136</td>\n",
       "      <td>Action|Adventure|Science Fiction|Fantasy</td>\n",
       "      <td>12/15/15</td>\n",
       "      <td>5292</td>\n",
       "      <td>7.5</td>\n",
       "      <td>2015</td>\n",
       "      <td>1.839999e+08</td>\n",
       "      <td>1.902723e+09</td>\n",
       "      <td>1868178225</td>\n",
       "    </tr>\n",
       "    <tr>\n",
       "      <th>4</th>\n",
       "      <td>168259</td>\n",
       "      <td>tt2820852</td>\n",
       "      <td>9.335014</td>\n",
       "      <td>190000000</td>\n",
       "      <td>1506249360</td>\n",
       "      <td>Furious 7</td>\n",
       "      <td>Vin Diesel|Paul Walker|Jason Statham|Michelle ...</td>\n",
       "      <td>James Wan</td>\n",
       "      <td>Deckard Shaw seeks revenge against Dominic Tor...</td>\n",
       "      <td>137</td>\n",
       "      <td>Action|Crime|Thriller</td>\n",
       "      <td>4/1/15</td>\n",
       "      <td>2947</td>\n",
       "      <td>7.3</td>\n",
       "      <td>2015</td>\n",
       "      <td>1.747999e+08</td>\n",
       "      <td>1.385749e+09</td>\n",
       "      <td>1316249360</td>\n",
       "    </tr>\n",
       "    <tr>\n",
       "      <th>5</th>\n",
       "      <td>281957</td>\n",
       "      <td>tt1663202</td>\n",
       "      <td>9.110700</td>\n",
       "      <td>135000000</td>\n",
       "      <td>532950503</td>\n",
       "      <td>The Revenant</td>\n",
       "      <td>Leonardo DiCaprio|Tom Hardy|Will Poulter|Domhn...</td>\n",
       "      <td>Alejandro GonzÃ¡lez IÃ±Ã¡rritu</td>\n",
       "      <td>In the 1820s, a frontiersman, Hugh Glass, sets...</td>\n",
       "      <td>156</td>\n",
       "      <td>Western|Drama|Adventure|Thriller</td>\n",
       "      <td>12/25/15</td>\n",
       "      <td>3929</td>\n",
       "      <td>7.2</td>\n",
       "      <td>2015</td>\n",
       "      <td>1.241999e+08</td>\n",
       "      <td>4.903142e+08</td>\n",
       "      <td>397950503</td>\n",
       "    </tr>\n",
       "    <tr>\n",
       "      <th>6</th>\n",
       "      <td>87101</td>\n",
       "      <td>tt1340138</td>\n",
       "      <td>8.654359</td>\n",
       "      <td>155000000</td>\n",
       "      <td>440603537</td>\n",
       "      <td>Terminator Genisys</td>\n",
       "      <td>Arnold Schwarzenegger|Jason Clarke|Emilia Clar...</td>\n",
       "      <td>Alan Taylor</td>\n",
       "      <td>The year is 2029. John Connor, leader of the r...</td>\n",
       "      <td>125</td>\n",
       "      <td>Science Fiction|Action|Thriller|Adventure</td>\n",
       "      <td>6/23/15</td>\n",
       "      <td>2598</td>\n",
       "      <td>5.8</td>\n",
       "      <td>2015</td>\n",
       "      <td>1.425999e+08</td>\n",
       "      <td>4.053551e+08</td>\n",
       "      <td>285603537</td>\n",
       "    </tr>\n",
       "    <tr>\n",
       "      <th>7</th>\n",
       "      <td>286217</td>\n",
       "      <td>tt3659388</td>\n",
       "      <td>7.667400</td>\n",
       "      <td>108000000</td>\n",
       "      <td>595380321</td>\n",
       "      <td>The Martian</td>\n",
       "      <td>Matt Damon|Jessica Chastain|Kristen Wiig|Jeff ...</td>\n",
       "      <td>Ridley Scott</td>\n",
       "      <td>During a manned mission to Mars, Astronaut Mar...</td>\n",
       "      <td>141</td>\n",
       "      <td>Drama|Adventure|Science Fiction</td>\n",
       "      <td>9/30/15</td>\n",
       "      <td>4572</td>\n",
       "      <td>7.6</td>\n",
       "      <td>2015</td>\n",
       "      <td>9.935996e+07</td>\n",
       "      <td>5.477497e+08</td>\n",
       "      <td>487380321</td>\n",
       "    </tr>\n",
       "    <tr>\n",
       "      <th>8</th>\n",
       "      <td>211672</td>\n",
       "      <td>tt2293640</td>\n",
       "      <td>7.404165</td>\n",
       "      <td>74000000</td>\n",
       "      <td>1156730962</td>\n",
       "      <td>Minions</td>\n",
       "      <td>Sandra Bullock|Jon Hamm|Michael Keaton|Allison...</td>\n",
       "      <td>Kyle Balda|Pierre Coffin</td>\n",
       "      <td>Minions Stuart, Kevin and Bob are recruited by...</td>\n",
       "      <td>91</td>\n",
       "      <td>Family|Animation|Adventure|Comedy</td>\n",
       "      <td>6/17/15</td>\n",
       "      <td>2893</td>\n",
       "      <td>6.5</td>\n",
       "      <td>2015</td>\n",
       "      <td>6.807997e+07</td>\n",
       "      <td>1.064192e+09</td>\n",
       "      <td>1082730962</td>\n",
       "    </tr>\n",
       "    <tr>\n",
       "      <th>9</th>\n",
       "      <td>150540</td>\n",
       "      <td>tt2096673</td>\n",
       "      <td>6.326804</td>\n",
       "      <td>175000000</td>\n",
       "      <td>853708609</td>\n",
       "      <td>Inside Out</td>\n",
       "      <td>Amy Poehler|Phyllis Smith|Richard Kind|Bill Ha...</td>\n",
       "      <td>Pete Docter</td>\n",
       "      <td>Growing up can be a bumpy road, and it's no ex...</td>\n",
       "      <td>94</td>\n",
       "      <td>Comedy|Animation|Family</td>\n",
       "      <td>6/9/15</td>\n",
       "      <td>3935</td>\n",
       "      <td>8.0</td>\n",
       "      <td>2015</td>\n",
       "      <td>1.609999e+08</td>\n",
       "      <td>7.854116e+08</td>\n",
       "      <td>678708609</td>\n",
       "    </tr>\n",
       "    <tr>\n",
       "      <th>10</th>\n",
       "      <td>206647</td>\n",
       "      <td>tt2379713</td>\n",
       "      <td>6.200282</td>\n",
       "      <td>245000000</td>\n",
       "      <td>880674609</td>\n",
       "      <td>Spectre</td>\n",
       "      <td>Daniel Craig|Christoph Waltz|LÃ©a Seydoux|Ralp...</td>\n",
       "      <td>Sam Mendes</td>\n",
       "      <td>A cryptic message from Bondâ€™s past sends him...</td>\n",
       "      <td>148</td>\n",
       "      <td>Action|Adventure|Crime</td>\n",
       "      <td>10/26/15</td>\n",
       "      <td>3254</td>\n",
       "      <td>6.2</td>\n",
       "      <td>2015</td>\n",
       "      <td>2.253999e+08</td>\n",
       "      <td>8.102203e+08</td>\n",
       "      <td>635674609</td>\n",
       "    </tr>\n",
       "    <tr>\n",
       "      <th>11</th>\n",
       "      <td>76757</td>\n",
       "      <td>tt1617661</td>\n",
       "      <td>6.189369</td>\n",
       "      <td>176000003</td>\n",
       "      <td>183987723</td>\n",
       "      <td>Jupiter Ascending</td>\n",
       "      <td>Mila Kunis|Channing Tatum|Sean Bean|Eddie Redm...</td>\n",
       "      <td>Lana Wachowski|Lilly Wachowski</td>\n",
       "      <td>In a universe where human genetic material is ...</td>\n",
       "      <td>124</td>\n",
       "      <td>Science Fiction|Fantasy|Action|Adventure</td>\n",
       "      <td>2/4/15</td>\n",
       "      <td>1937</td>\n",
       "      <td>5.2</td>\n",
       "      <td>2015</td>\n",
       "      <td>1.619199e+08</td>\n",
       "      <td>1.692686e+08</td>\n",
       "      <td>7987720</td>\n",
       "    </tr>\n",
       "    <tr>\n",
       "      <th>12</th>\n",
       "      <td>264660</td>\n",
       "      <td>tt0470752</td>\n",
       "      <td>6.118847</td>\n",
       "      <td>15000000</td>\n",
       "      <td>36869414</td>\n",
       "      <td>Ex Machina</td>\n",
       "      <td>Domhnall Gleeson|Alicia Vikander|Oscar Isaac|S...</td>\n",
       "      <td>Alex Garland</td>\n",
       "      <td>Caleb, a 26 year old coder at the world's larg...</td>\n",
       "      <td>108</td>\n",
       "      <td>Drama|Science Fiction</td>\n",
       "      <td>1/21/15</td>\n",
       "      <td>2854</td>\n",
       "      <td>7.6</td>\n",
       "      <td>2015</td>\n",
       "      <td>1.379999e+07</td>\n",
       "      <td>3.391985e+07</td>\n",
       "      <td>21869414</td>\n",
       "    </tr>\n",
       "  </tbody>\n",
       "</table>\n",
       "</div>"
      ],
      "text/plain": [
       "        id    imdb_id  popularity     budget     revenue  \\\n",
       "0   135397  tt0369610   32.985763  150000000  1513528810   \n",
       "1    76341  tt1392190   28.419936  150000000   378436354   \n",
       "2   262500  tt2908446   13.112507  110000000   295238201   \n",
       "3   140607  tt2488496   11.173104  200000000  2068178225   \n",
       "4   168259  tt2820852    9.335014  190000000  1506249360   \n",
       "5   281957  tt1663202    9.110700  135000000   532950503   \n",
       "6    87101  tt1340138    8.654359  155000000   440603537   \n",
       "7   286217  tt3659388    7.667400  108000000   595380321   \n",
       "8   211672  tt2293640    7.404165   74000000  1156730962   \n",
       "9   150540  tt2096673    6.326804  175000000   853708609   \n",
       "10  206647  tt2379713    6.200282  245000000   880674609   \n",
       "11   76757  tt1617661    6.189369  176000003   183987723   \n",
       "12  264660  tt0470752    6.118847   15000000    36869414   \n",
       "\n",
       "                  original_title  \\\n",
       "0                 Jurassic World   \n",
       "1             Mad Max: Fury Road   \n",
       "2                      Insurgent   \n",
       "3   Star Wars: The Force Awakens   \n",
       "4                      Furious 7   \n",
       "5                   The Revenant   \n",
       "6             Terminator Genisys   \n",
       "7                    The Martian   \n",
       "8                        Minions   \n",
       "9                     Inside Out   \n",
       "10                       Spectre   \n",
       "11             Jupiter Ascending   \n",
       "12                    Ex Machina   \n",
       "\n",
       "                                                 cast  \\\n",
       "0   Chris Pratt|Bryce Dallas Howard|Irrfan Khan|Vi...   \n",
       "1   Tom Hardy|Charlize Theron|Hugh Keays-Byrne|Nic...   \n",
       "2   Shailene Woodley|Theo James|Kate Winslet|Ansel...   \n",
       "3   Harrison Ford|Mark Hamill|Carrie Fisher|Adam D...   \n",
       "4   Vin Diesel|Paul Walker|Jason Statham|Michelle ...   \n",
       "5   Leonardo DiCaprio|Tom Hardy|Will Poulter|Domhn...   \n",
       "6   Arnold Schwarzenegger|Jason Clarke|Emilia Clar...   \n",
       "7   Matt Damon|Jessica Chastain|Kristen Wiig|Jeff ...   \n",
       "8   Sandra Bullock|Jon Hamm|Michael Keaton|Allison...   \n",
       "9   Amy Poehler|Phyllis Smith|Richard Kind|Bill Ha...   \n",
       "10  Daniel Craig|Christoph Waltz|LÃ©a Seydoux|Ralp...   \n",
       "11  Mila Kunis|Channing Tatum|Sean Bean|Eddie Redm...   \n",
       "12  Domhnall Gleeson|Alicia Vikander|Oscar Isaac|S...   \n",
       "\n",
       "                          director  \\\n",
       "0                  Colin Trevorrow   \n",
       "1                    George Miller   \n",
       "2                 Robert Schwentke   \n",
       "3                      J.J. Abrams   \n",
       "4                        James Wan   \n",
       "5   Alejandro GonzÃ¡lez IÃ±Ã¡rritu   \n",
       "6                      Alan Taylor   \n",
       "7                     Ridley Scott   \n",
       "8         Kyle Balda|Pierre Coffin   \n",
       "9                      Pete Docter   \n",
       "10                      Sam Mendes   \n",
       "11  Lana Wachowski|Lilly Wachowski   \n",
       "12                    Alex Garland   \n",
       "\n",
       "                                             overview  runtime  \\\n",
       "0   Twenty-two years after the events of Jurassic ...      124   \n",
       "1   An apocalyptic story set in the furthest reach...      120   \n",
       "2   Beatrice Prior must confront her inner demons ...      119   \n",
       "3   Thirty years after defeating the Galactic Empi...      136   \n",
       "4   Deckard Shaw seeks revenge against Dominic Tor...      137   \n",
       "5   In the 1820s, a frontiersman, Hugh Glass, sets...      156   \n",
       "6   The year is 2029. John Connor, leader of the r...      125   \n",
       "7   During a manned mission to Mars, Astronaut Mar...      141   \n",
       "8   Minions Stuart, Kevin and Bob are recruited by...       91   \n",
       "9   Growing up can be a bumpy road, and it's no ex...       94   \n",
       "10  A cryptic message from Bondâ€™s past sends him...      148   \n",
       "11  In a universe where human genetic material is ...      124   \n",
       "12  Caleb, a 26 year old coder at the world's larg...      108   \n",
       "\n",
       "                                       genres release_date  vote_count  \\\n",
       "0   Action|Adventure|Science Fiction|Thriller       6/9/15        5562   \n",
       "1   Action|Adventure|Science Fiction|Thriller      5/13/15        6185   \n",
       "2          Adventure|Science Fiction|Thriller      3/18/15        2480   \n",
       "3    Action|Adventure|Science Fiction|Fantasy     12/15/15        5292   \n",
       "4                       Action|Crime|Thriller       4/1/15        2947   \n",
       "5            Western|Drama|Adventure|Thriller     12/25/15        3929   \n",
       "6   Science Fiction|Action|Thriller|Adventure      6/23/15        2598   \n",
       "7             Drama|Adventure|Science Fiction      9/30/15        4572   \n",
       "8           Family|Animation|Adventure|Comedy      6/17/15        2893   \n",
       "9                     Comedy|Animation|Family       6/9/15        3935   \n",
       "10                     Action|Adventure|Crime     10/26/15        3254   \n",
       "11   Science Fiction|Fantasy|Action|Adventure       2/4/15        1937   \n",
       "12                      Drama|Science Fiction      1/21/15        2854   \n",
       "\n",
       "    vote_average  release_year    budget_adj   revenue_adj      profit  \n",
       "0            6.5          2015  1.379999e+08  1.392446e+09  1363528810  \n",
       "1            7.1          2015  1.379999e+08  3.481613e+08   228436354  \n",
       "2            6.3          2015  1.012000e+08  2.716190e+08   185238201  \n",
       "3            7.5          2015  1.839999e+08  1.902723e+09  1868178225  \n",
       "4            7.3          2015  1.747999e+08  1.385749e+09  1316249360  \n",
       "5            7.2          2015  1.241999e+08  4.903142e+08   397950503  \n",
       "6            5.8          2015  1.425999e+08  4.053551e+08   285603537  \n",
       "7            7.6          2015  9.935996e+07  5.477497e+08   487380321  \n",
       "8            6.5          2015  6.807997e+07  1.064192e+09  1082730962  \n",
       "9            8.0          2015  1.609999e+08  7.854116e+08   678708609  \n",
       "10           6.2          2015  2.253999e+08  8.102203e+08   635674609  \n",
       "11           5.2          2015  1.619199e+08  1.692686e+08     7987720  \n",
       "12           7.6          2015  1.379999e+07  3.391985e+07    21869414  "
      ]
     },
     "execution_count": 12,
     "metadata": {},
     "output_type": "execute_result"
    }
   ],
   "source": [
    "df.head(13)"
   ]
  },
  {
   "cell_type": "markdown",
   "metadata": {},
   "source": [
    "Now we have a profit column for each film"
   ]
  },
  {
   "cell_type": "code",
   "execution_count": 14,
   "metadata": {
    "scrolled": true
   },
   "outputs": [
    {
     "data": {
      "text/plain": [
       "1386    Avatar\n",
       "Name: original_title, dtype: object"
      ]
     },
     "execution_count": 14,
     "metadata": {},
     "output_type": "execute_result"
    }
   ],
   "source": [
    "df[df['revenue']==df['revenue'].max()]['original_title']"
   ]
  },
  {
   "cell_type": "markdown",
   "metadata": {},
   "source": [
    "The name of the film with the biggest revenue ever is **Avatar**"
   ]
  },
  {
   "cell_type": "markdown",
   "metadata": {},
   "source": [
    "#### Q3: What is the film with the biggest budget in a 2007?"
   ]
  },
  {
   "cell_type": "code",
   "execution_count": 15,
   "metadata": {
    "scrolled": true
   },
   "outputs": [
    {
     "data": {
      "text/html": [
       "<div>\n",
       "<style scoped>\n",
       "    .dataframe tbody tr th:only-of-type {\n",
       "        vertical-align: middle;\n",
       "    }\n",
       "\n",
       "    .dataframe tbody tr th {\n",
       "        vertical-align: top;\n",
       "    }\n",
       "\n",
       "    .dataframe thead th {\n",
       "        text-align: right;\n",
       "    }\n",
       "</style>\n",
       "<table border=\"1\" class=\"dataframe\">\n",
       "  <thead>\n",
       "    <tr style=\"text-align: right;\">\n",
       "      <th></th>\n",
       "      <th>id</th>\n",
       "      <th>imdb_id</th>\n",
       "      <th>popularity</th>\n",
       "      <th>budget</th>\n",
       "      <th>revenue</th>\n",
       "      <th>original_title</th>\n",
       "      <th>cast</th>\n",
       "      <th>director</th>\n",
       "      <th>overview</th>\n",
       "      <th>runtime</th>\n",
       "      <th>genres</th>\n",
       "      <th>release_date</th>\n",
       "      <th>vote_count</th>\n",
       "      <th>vote_average</th>\n",
       "      <th>release_year</th>\n",
       "      <th>budget_adj</th>\n",
       "      <th>revenue_adj</th>\n",
       "      <th>profit</th>\n",
       "    </tr>\n",
       "  </thead>\n",
       "  <tbody>\n",
       "    <tr>\n",
       "      <th>7387</th>\n",
       "      <td>285</td>\n",
       "      <td>tt0449088</td>\n",
       "      <td>4.965391</td>\n",
       "      <td>300000000</td>\n",
       "      <td>961000000</td>\n",
       "      <td>Pirates of the Caribbean: At World's End</td>\n",
       "      <td>Johnny Depp|Orlando Bloom|Keira Knightley|Geof...</td>\n",
       "      <td>Gore Verbinski</td>\n",
       "      <td>Captain Barbossa, long believed to be dead, ha...</td>\n",
       "      <td>169</td>\n",
       "      <td>Adventure|Fantasy|Action</td>\n",
       "      <td>5/19/07</td>\n",
       "      <td>2626</td>\n",
       "      <td>6.8</td>\n",
       "      <td>2007</td>\n",
       "      <td>3.155006e+08</td>\n",
       "      <td>1.010654e+09</td>\n",
       "      <td>661000000</td>\n",
       "    </tr>\n",
       "  </tbody>\n",
       "</table>\n",
       "</div>"
      ],
      "text/plain": [
       "       id    imdb_id  popularity     budget    revenue  \\\n",
       "7387  285  tt0449088    4.965391  300000000  961000000   \n",
       "\n",
       "                                original_title  \\\n",
       "7387  Pirates of the Caribbean: At World's End   \n",
       "\n",
       "                                                   cast        director  \\\n",
       "7387  Johnny Depp|Orlando Bloom|Keira Knightley|Geof...  Gore Verbinski   \n",
       "\n",
       "                                               overview  runtime  \\\n",
       "7387  Captain Barbossa, long believed to be dead, ha...      169   \n",
       "\n",
       "                        genres release_date  vote_count  vote_average  \\\n",
       "7387  Adventure|Fantasy|Action      5/19/07        2626           6.8   \n",
       "\n",
       "      release_year    budget_adj   revenue_adj     profit  \n",
       "7387          2007  3.155006e+08  1.010654e+09  661000000  "
      ]
     },
     "execution_count": 15,
     "metadata": {},
     "output_type": "execute_result"
    }
   ],
   "source": [
    "df[df['budget'] == df[df['release_year'] == 2007]['budget'].max()]"
   ]
  },
  {
   "cell_type": "markdown",
   "metadata": {},
   "source": [
    "The film with the biggest budget in a 2007 was **Pirates of the Caribbean: At World's End** with budget 300M $"
   ]
  },
  {
   "cell_type": "markdown",
   "metadata": {},
   "source": [
    "#### Q4: what is the correlation between the budget and the popularity?\n",
    "*i.e. is the film with bigger budget means that it have bigger popularity?*"
   ]
  },
  {
   "cell_type": "code",
   "execution_count": 16,
   "metadata": {},
   "outputs": [
    {
     "data": {
      "text/html": [
       "<div>\n",
       "<style scoped>\n",
       "    .dataframe tbody tr th:only-of-type {\n",
       "        vertical-align: middle;\n",
       "    }\n",
       "\n",
       "    .dataframe tbody tr th {\n",
       "        vertical-align: top;\n",
       "    }\n",
       "\n",
       "    .dataframe thead th {\n",
       "        text-align: right;\n",
       "    }\n",
       "</style>\n",
       "<table border=\"1\" class=\"dataframe\">\n",
       "  <thead>\n",
       "    <tr style=\"text-align: right;\">\n",
       "      <th></th>\n",
       "      <th>budget</th>\n",
       "      <th>popularity</th>\n",
       "    </tr>\n",
       "  </thead>\n",
       "  <tbody>\n",
       "    <tr>\n",
       "      <th>budget</th>\n",
       "      <td>1.000000</td>\n",
       "      <td>0.544197</td>\n",
       "    </tr>\n",
       "    <tr>\n",
       "      <th>popularity</th>\n",
       "      <td>0.544197</td>\n",
       "      <td>1.000000</td>\n",
       "    </tr>\n",
       "  </tbody>\n",
       "</table>\n",
       "</div>"
      ],
      "text/plain": [
       "              budget  popularity\n",
       "budget      1.000000    0.544197\n",
       "popularity  0.544197    1.000000"
      ]
     },
     "execution_count": 16,
     "metadata": {},
     "output_type": "execute_result"
    }
   ],
   "source": [
    "df[['budget','popularity']].corr()"
   ]
  },
  {
   "cell_type": "markdown",
   "metadata": {},
   "source": [
    "Now let's figure it out as plot but before that let's create a function to do our plot quickly."
   ]
  },
  {
   "cell_type": "code",
   "execution_count": 17,
   "metadata": {},
   "outputs": [],
   "source": [
    "def sctr_plt(df, X, Y):\n",
    "    plt.scatter(x = df[X], y = df[Y], s = 5)\n",
    "    plt.title('correlation between {} & {}'.format(X,Y).title(), fontsize = 15)\n",
    "    plt.xlabel(X.title(), fontsize = 15)\n",
    "    plt.ylabel(Y.title(), fontsize = 15)"
   ]
  },
  {
   "cell_type": "code",
   "execution_count": 18,
   "metadata": {
    "scrolled": true
   },
   "outputs": [
    {
     "data": {
      "image/png": "[encoded data removed]",
      "text/plain": [
       "<Figure size 432x288 with 1 Axes>"
      ]
     },
     "metadata": {
      "needs_background": "light"
     },
     "output_type": "display_data"
    }
   ],
   "source": [
    "sctr_plt(df, 'budget', 'popularity')"
   ]
  },
  {
   "cell_type": "markdown",
   "metadata": {},
   "source": [
    "Seems it does have weak correlation so if a film have big budget it has small chance to has big popularity."
   ]
  },
  {
   "cell_type": "markdown",
   "metadata": {},
   "source": [
    "<a id = 'Q5'></a>\n",
    "#### Q5: what is the top rated action movie?\n",
    "That want some works on it because we have the genres colomn as string so we have to create a fuction to extract the wanted word from a given string."
   ]
  },
  {
   "cell_type": "markdown",
   "metadata": {},
   "source": [
    "## That is a function to avoid repetitive code.\n",
    "#### and it's used twice, the first one in this question and the second one on Q7"
   ]
  },
  {
   "cell_type": "code",
   "execution_count": 40,
   "metadata": {},
   "outputs": [],
   "source": [
    "def cont(word ,string):\n",
    "    if word in string.lower():\n",
    "        return True\n",
    "    else:\n",
    "        return False"
   ]
  },
  {
   "cell_type": "markdown",
   "metadata": {},
   "source": [
    "Then create new dataframe and stor the dataframe after selecting the action word fron the genre."
   ]
  },
  {
   "cell_type": "code",
   "execution_count": 41,
   "metadata": {},
   "outputs": [],
   "source": [
    "df1 = df[df['genres'].apply(lambda x: cont('action',x))]"
   ]
  },
  {
   "cell_type": "markdown",
   "metadata": {},
   "source": [
    "Finally we select the movie/s with the maximum vote."
   ]
  },
  {
   "cell_type": "code",
   "execution_count": 42,
   "metadata": {
    "scrolled": true
   },
   "outputs": [
    {
     "data": {
      "text/html": [
       "<div>\n",
       "<style scoped>\n",
       "    .dataframe tbody tr th:only-of-type {\n",
       "        vertical-align: middle;\n",
       "    }\n",
       "\n",
       "    .dataframe tbody tr th {\n",
       "        vertical-align: top;\n",
       "    }\n",
       "\n",
       "    .dataframe thead th {\n",
       "        text-align: right;\n",
       "    }\n",
       "</style>\n",
       "<table border=\"1\" class=\"dataframe\">\n",
       "  <thead>\n",
       "    <tr style=\"text-align: right;\">\n",
       "      <th></th>\n",
       "      <th>id</th>\n",
       "      <th>imdb_id</th>\n",
       "      <th>popularity</th>\n",
       "      <th>budget</th>\n",
       "      <th>revenue</th>\n",
       "      <th>original_title</th>\n",
       "      <th>cast</th>\n",
       "      <th>director</th>\n",
       "      <th>overview</th>\n",
       "      <th>runtime</th>\n",
       "      <th>genres</th>\n",
       "      <th>release_date</th>\n",
       "      <th>vote_count</th>\n",
       "      <th>vote_average</th>\n",
       "      <th>release_year</th>\n",
       "      <th>budget_adj</th>\n",
       "      <th>revenue_adj</th>\n",
       "      <th>profit</th>\n",
       "    </tr>\n",
       "  </thead>\n",
       "  <tbody>\n",
       "    <tr>\n",
       "      <th>2875</th>\n",
       "      <td>155</td>\n",
       "      <td>tt0468569</td>\n",
       "      <td>8.466668</td>\n",
       "      <td>185000000</td>\n",
       "      <td>1001921825</td>\n",
       "      <td>The Dark Knight</td>\n",
       "      <td>Christian Bale|Michael Caine|Heath Ledger|Aaro...</td>\n",
       "      <td>Christopher Nolan</td>\n",
       "      <td>Batman raises the stakes in his war on crime. ...</td>\n",
       "      <td>152</td>\n",
       "      <td>Drama|Action|Crime|Thriller</td>\n",
       "      <td>7/16/08</td>\n",
       "      <td>8432</td>\n",
       "      <td>8.1</td>\n",
       "      <td>2008</td>\n",
       "      <td>1.873655e+08</td>\n",
       "      <td>1.014733e+09</td>\n",
       "      <td>816921825</td>\n",
       "    </tr>\n",
       "  </tbody>\n",
       "</table>\n",
       "</div>"
      ],
      "text/plain": [
       "       id    imdb_id  popularity     budget     revenue   original_title  \\\n",
       "2875  155  tt0468569    8.466668  185000000  1001921825  The Dark Knight   \n",
       "\n",
       "                                                   cast           director  \\\n",
       "2875  Christian Bale|Michael Caine|Heath Ledger|Aaro...  Christopher Nolan   \n",
       "\n",
       "                                               overview  runtime  \\\n",
       "2875  Batman raises the stakes in his war on crime. ...      152   \n",
       "\n",
       "                           genres release_date  vote_count  vote_average  \\\n",
       "2875  Drama|Action|Crime|Thriller      7/16/08        8432           8.1   \n",
       "\n",
       "      release_year    budget_adj   revenue_adj     profit  \n",
       "2875          2008  1.873655e+08  1.014733e+09  816921825  "
      ]
     },
     "execution_count": 42,
     "metadata": {},
     "output_type": "execute_result"
    }
   ],
   "source": [
    "df1[df1['vote_average'] == df1['vote_average'].max()]"
   ]
  },
  {
   "cell_type": "markdown",
   "metadata": {},
   "source": [
    "We have two films **The Dark Knight** in 2008 and **Kill Bill: The Whole Bloody Affair** in 2011 with the same rating **8.1**."
   ]
  },
  {
   "cell_type": "markdown",
   "metadata": {},
   "source": [
    "#### Q6: What is the number of films that was directed by Robert Schwentke?\n",
    "Here we can use the query() method to select all films that directed by Robert Schwentke."
   ]
  },
  {
   "cell_type": "code",
   "execution_count": 43,
   "metadata": {},
   "outputs": [
    {
     "data": {
      "text/plain": [
       "5"
      ]
     },
     "execution_count": 43,
     "metadata": {},
     "output_type": "execute_result"
    }
   ],
   "source": [
    "df.query('director == \"Robert Schwentke\"').count()[0]"
   ]
  },
  {
   "cell_type": "markdown",
   "metadata": {},
   "source": [
    "#### Q7: What is the active years of the actor vin diesel?\n",
    "Here we can use the lambda function to use the function that we have created in <a href = '#Q5'>Q5</a> to find the films with the actor in its cast."
   ]
  },
  {
   "cell_type": "code",
   "execution_count": 44,
   "metadata": {
    "scrolled": false
   },
   "outputs": [
    {
     "data": {
      "text/plain": [
       "1999    1\n",
       "2000    2\n",
       "2001    2\n",
       "2002    1\n",
       "2003    1\n",
       "2004    1\n",
       "2005    1\n",
       "2008    1\n",
       "2009    1\n",
       "2011    1\n",
       "2013    2\n",
       "2014    1\n",
       "2015    2\n",
       "Name: release_year, dtype: int64"
      ]
     },
     "execution_count": 44,
     "metadata": {},
     "output_type": "execute_result"
    }
   ],
   "source": [
    "df[df['cast'].apply(lambda x: cont('vin diesel',x))]['release_year'].value_counts().sort_index()"
   ]
  },
  {
   "cell_type": "markdown",
   "metadata": {},
   "source": [
    "#### Q8: What is the top rated movie in 70s?\n",
    "We can use the query method to select films with release year between 1970 and 1980"
   ]
  },
  {
   "cell_type": "code",
   "execution_count": 45,
   "metadata": {
    "scrolled": true
   },
   "outputs": [
    {
     "data": {
      "text/html": [
       "<div>\n",
       "<style scoped>\n",
       "    .dataframe tbody tr th:only-of-type {\n",
       "        vertical-align: middle;\n",
       "    }\n",
       "\n",
       "    .dataframe tbody tr th {\n",
       "        vertical-align: top;\n",
       "    }\n",
       "\n",
       "    .dataframe thead th {\n",
       "        text-align: right;\n",
       "    }\n",
       "</style>\n",
       "<table border=\"1\" class=\"dataframe\">\n",
       "  <thead>\n",
       "    <tr style=\"text-align: right;\">\n",
       "      <th></th>\n",
       "      <th>id</th>\n",
       "      <th>imdb_id</th>\n",
       "      <th>popularity</th>\n",
       "      <th>budget</th>\n",
       "      <th>revenue</th>\n",
       "      <th>original_title</th>\n",
       "      <th>cast</th>\n",
       "      <th>director</th>\n",
       "      <th>overview</th>\n",
       "      <th>runtime</th>\n",
       "      <th>genres</th>\n",
       "      <th>release_date</th>\n",
       "      <th>vote_count</th>\n",
       "      <th>vote_average</th>\n",
       "      <th>release_year</th>\n",
       "      <th>budget_adj</th>\n",
       "      <th>revenue_adj</th>\n",
       "      <th>profit</th>\n",
       "    </tr>\n",
       "  </thead>\n",
       "  <tbody>\n",
       "    <tr>\n",
       "      <th>7269</th>\n",
       "      <td>238</td>\n",
       "      <td>tt0068646</td>\n",
       "      <td>5.738034</td>\n",
       "      <td>6000000</td>\n",
       "      <td>245066411</td>\n",
       "      <td>The Godfather</td>\n",
       "      <td>Marlon Brando|Al Pacino|James Caan|Richard S. ...</td>\n",
       "      <td>Francis Ford Coppola</td>\n",
       "      <td>Spanning the years 1945 to 1955, a chronicle o...</td>\n",
       "      <td>175</td>\n",
       "      <td>Drama|Crime</td>\n",
       "      <td>3/15/72</td>\n",
       "      <td>3970</td>\n",
       "      <td>8.3</td>\n",
       "      <td>1972</td>\n",
       "      <td>3.128737e+07</td>\n",
       "      <td>1.277914e+09</td>\n",
       "      <td>239066411</td>\n",
       "    </tr>\n",
       "  </tbody>\n",
       "</table>\n",
       "</div>"
      ],
      "text/plain": [
       "       id    imdb_id  popularity   budget    revenue original_title  \\\n",
       "7269  238  tt0068646    5.738034  6000000  245066411  The Godfather   \n",
       "\n",
       "                                                   cast              director  \\\n",
       "7269  Marlon Brando|Al Pacino|James Caan|Richard S. ...  Francis Ford Coppola   \n",
       "\n",
       "                                               overview  runtime       genres  \\\n",
       "7269  Spanning the years 1945 to 1955, a chronicle o...      175  Drama|Crime   \n",
       "\n",
       "     release_date  vote_count  vote_average  release_year    budget_adj  \\\n",
       "7269      3/15/72        3970           8.3          1972  3.128737e+07   \n",
       "\n",
       "       revenue_adj     profit  \n",
       "7269  1.277914e+09  239066411  "
      ]
     },
     "execution_count": 45,
     "metadata": {},
     "output_type": "execute_result"
    }
   ],
   "source": [
    "df2 = df.query('release_year >= 1970' and 'release_year < 1980')\n",
    "df2[df2['vote_average'] == df2['vote_average'].max()]"
   ]
  },
  {
   "cell_type": "markdown",
   "metadata": {},
   "source": [
    "The top rated movie in 70s is *The Godfather* with *8.3* average votes and was released in *1972*"
   ]
  },
  {
   "cell_type": "markdown",
   "metadata": {},
   "source": [
    "<a id = 'Q2'></a>\n",
    "#### Q9: Who is the most popular director?\n",
    "Here we can use the groupby() method to group the data frame by the directors name then selects the director with the biggest summation of popularity."
   ]
  },
  {
   "cell_type": "code",
   "execution_count": 46,
   "metadata": {},
   "outputs": [
    {
     "data": {
      "text/html": [
       "<div>\n",
       "<style scoped>\n",
       "    .dataframe tbody tr th:only-of-type {\n",
       "        vertical-align: middle;\n",
       "    }\n",
       "\n",
       "    .dataframe tbody tr th {\n",
       "        vertical-align: top;\n",
       "    }\n",
       "\n",
       "    .dataframe thead th {\n",
       "        text-align: right;\n",
       "    }\n",
       "</style>\n",
       "<table border=\"1\" class=\"dataframe\">\n",
       "  <thead>\n",
       "    <tr style=\"text-align: right;\">\n",
       "      <th></th>\n",
       "      <th>id</th>\n",
       "      <th>popularity</th>\n",
       "      <th>budget</th>\n",
       "      <th>revenue</th>\n",
       "      <th>runtime</th>\n",
       "      <th>vote_count</th>\n",
       "      <th>vote_average</th>\n",
       "      <th>release_year</th>\n",
       "      <th>budget_adj</th>\n",
       "      <th>revenue_adj</th>\n",
       "      <th>profit</th>\n",
       "    </tr>\n",
       "    <tr>\n",
       "      <th>director</th>\n",
       "      <th></th>\n",
       "      <th></th>\n",
       "      <th></th>\n",
       "      <th></th>\n",
       "      <th></th>\n",
       "      <th></th>\n",
       "      <th></th>\n",
       "      <th></th>\n",
       "      <th></th>\n",
       "      <th></th>\n",
       "      <th></th>\n",
       "    </tr>\n",
       "  </thead>\n",
       "  <tbody>\n",
       "    <tr>\n",
       "      <th>Christopher Nolan</th>\n",
       "      <td>235515</td>\n",
       "      <td>61.560756</td>\n",
       "      <td>1005000000</td>\n",
       "      <td>4167548502</td>\n",
       "      <td>1135</td>\n",
       "      <td>41561</td>\n",
       "      <td>61.1</td>\n",
       "      <td>16057</td>\n",
       "      <td>1.014694e+09</td>\n",
       "      <td>4.164262e+09</td>\n",
       "      <td>3162548502</td>\n",
       "    </tr>\n",
       "  </tbody>\n",
       "</table>\n",
       "</div>"
      ],
      "text/plain": [
       "                       id  popularity      budget     revenue  runtime  \\\n",
       "director                                                                 \n",
       "Christopher Nolan  235515   61.560756  1005000000  4167548502     1135   \n",
       "\n",
       "                   vote_count  vote_average  release_year    budget_adj  \\\n",
       "director                                                                  \n",
       "Christopher Nolan       41561          61.1         16057  1.014694e+09   \n",
       "\n",
       "                    revenue_adj      profit  \n",
       "director                                     \n",
       "Christopher Nolan  4.164262e+09  3162548502  "
      ]
     },
     "execution_count": 46,
     "metadata": {},
     "output_type": "execute_result"
    }
   ],
   "source": [
    "dfmax = df.groupby('director').sum()\n",
    "dfmax[dfmax['popularity'] == dfmax['popularity'].max()]"
   ]
  },
  {
   "cell_type": "markdown",
   "metadata": {},
   "source": [
    "Christopher Nolan is the most popular director with summation of popularity equals almost 62."
   ]
  },
  {
   "cell_type": "markdown",
   "metadata": {},
   "source": [
    "#### Q10: What is the correlation between the popularity and the profit?"
   ]
  },
  {
   "cell_type": "code",
   "execution_count": 47,
   "metadata": {
    "scrolled": true
   },
   "outputs": [
    {
     "data": {
      "text/html": [
       "<div>\n",
       "<style scoped>\n",
       "    .dataframe tbody tr th:only-of-type {\n",
       "        vertical-align: middle;\n",
       "    }\n",
       "\n",
       "    .dataframe tbody tr th {\n",
       "        vertical-align: top;\n",
       "    }\n",
       "\n",
       "    .dataframe thead th {\n",
       "        text-align: right;\n",
       "    }\n",
       "</style>\n",
       "<table border=\"1\" class=\"dataframe\">\n",
       "  <thead>\n",
       "    <tr style=\"text-align: right;\">\n",
       "      <th></th>\n",
       "      <th>profit</th>\n",
       "      <th>popularity</th>\n",
       "    </tr>\n",
       "  </thead>\n",
       "  <tbody>\n",
       "    <tr>\n",
       "      <th>profit</th>\n",
       "      <td>1.00000</td>\n",
       "      <td>0.59608</td>\n",
       "    </tr>\n",
       "    <tr>\n",
       "      <th>popularity</th>\n",
       "      <td>0.59608</td>\n",
       "      <td>1.00000</td>\n",
       "    </tr>\n",
       "  </tbody>\n",
       "</table>\n",
       "</div>"
      ],
      "text/plain": [
       "             profit  popularity\n",
       "profit      1.00000     0.59608\n",
       "popularity  0.59608     1.00000"
      ]
     },
     "execution_count": 47,
     "metadata": {},
     "output_type": "execute_result"
    }
   ],
   "source": [
    "df[['profit','popularity']].corr()"
   ]
  },
  {
   "cell_type": "code",
   "execution_count": 48,
   "metadata": {
    "scrolled": true
   },
   "outputs": [
    {
     "data": {
      "image/png": "[encoded data removed]",
      "text/plain": [
       "<Figure size 432x288 with 1 Axes>"
      ]
     },
     "metadata": {
      "needs_background": "light"
     },
     "output_type": "display_data"
    }
   ],
   "source": [
    "sctr_plt(df, 'profit', 'popularity')"
   ]
  },
  {
   "cell_type": "markdown",
   "metadata": {},
   "source": [
    "Seems it has a bit strong correlation."
   ]
  },
  {
   "cell_type": "markdown",
   "metadata": {},
   "source": [
    "#### Q11: What is the correlation between the popularity and votes?"
   ]
  },
  {
   "cell_type": "code",
   "execution_count": 49,
   "metadata": {
    "scrolled": true
   },
   "outputs": [
    {
     "data": {
      "text/html": [
       "<div>\n",
       "<style scoped>\n",
       "    .dataframe tbody tr th:only-of-type {\n",
       "        vertical-align: middle;\n",
       "    }\n",
       "\n",
       "    .dataframe tbody tr th {\n",
       "        vertical-align: top;\n",
       "    }\n",
       "\n",
       "    .dataframe thead th {\n",
       "        text-align: right;\n",
       "    }\n",
       "</style>\n",
       "<table border=\"1\" class=\"dataframe\">\n",
       "  <thead>\n",
       "    <tr style=\"text-align: right;\">\n",
       "      <th></th>\n",
       "      <th>vote_average</th>\n",
       "      <th>popularity</th>\n",
       "    </tr>\n",
       "  </thead>\n",
       "  <tbody>\n",
       "    <tr>\n",
       "      <th>vote_average</th>\n",
       "      <td>1.00000</td>\n",
       "      <td>0.31775</td>\n",
       "    </tr>\n",
       "    <tr>\n",
       "      <th>popularity</th>\n",
       "      <td>0.31775</td>\n",
       "      <td>1.00000</td>\n",
       "    </tr>\n",
       "  </tbody>\n",
       "</table>\n",
       "</div>"
      ],
      "text/plain": [
       "              vote_average  popularity\n",
       "vote_average       1.00000     0.31775\n",
       "popularity         0.31775     1.00000"
      ]
     },
     "execution_count": 49,
     "metadata": {},
     "output_type": "execute_result"
    }
   ],
   "source": [
    "df[['vote_average','popularity']].corr()"
   ]
  },
  {
   "cell_type": "code",
   "execution_count": 50,
   "metadata": {
    "scrolled": false
   },
   "outputs": [
    {
     "data": {
      "image/png": "[encoded data removed]",
      "text/plain": [
       "<Figure size 432x288 with 1 Axes>"
      ]
     },
     "metadata": {
      "needs_background": "light"
     },
     "output_type": "display_data"
    }
   ],
   "source": [
    "sctr_plt(df, 'vote_average', 'popularity')"
   ]
  },
  {
   "cell_type": "markdown",
   "metadata": {},
   "source": [
    "The corelation is very weak."
   ]
  },
  {
   "cell_type": "markdown",
   "metadata": {},
   "source": [
    "#### Q12: State a diagram between the revenue from 2015 until now\n",
    "First we will create an temporary df and store the summation of the revenue on each year on it"
   ]
  },
  {
   "cell_type": "code",
   "execution_count": 51,
   "metadata": {},
   "outputs": [
    {
     "data": {
      "text/html": [
       "<div>\n",
       "<style scoped>\n",
       "    .dataframe tbody tr th:only-of-type {\n",
       "        vertical-align: middle;\n",
       "    }\n",
       "\n",
       "    .dataframe tbody tr th {\n",
       "        vertical-align: top;\n",
       "    }\n",
       "\n",
       "    .dataframe thead th {\n",
       "        text-align: right;\n",
       "    }\n",
       "</style>\n",
       "<table border=\"1\" class=\"dataframe\">\n",
       "  <thead>\n",
       "    <tr style=\"text-align: right;\">\n",
       "      <th></th>\n",
       "      <th>revenue</th>\n",
       "    </tr>\n",
       "    <tr>\n",
       "      <th>release_year</th>\n",
       "      <th></th>\n",
       "    </tr>\n",
       "  </thead>\n",
       "  <tbody>\n",
       "    <tr>\n",
       "      <th>2010</th>\n",
       "      <td>21804360476</td>\n",
       "    </tr>\n",
       "    <tr>\n",
       "      <th>2011</th>\n",
       "      <td>23408245247</td>\n",
       "    </tr>\n",
       "    <tr>\n",
       "      <th>2012</th>\n",
       "      <td>24151056032</td>\n",
       "    </tr>\n",
       "    <tr>\n",
       "      <th>2013</th>\n",
       "      <td>24350666103</td>\n",
       "    </tr>\n",
       "    <tr>\n",
       "      <th>2014</th>\n",
       "      <td>24069969357</td>\n",
       "    </tr>\n",
       "    <tr>\n",
       "      <th>2015</th>\n",
       "      <td>26202922801</td>\n",
       "    </tr>\n",
       "  </tbody>\n",
       "</table>\n",
       "</div>"
      ],
      "text/plain": [
       "                  revenue\n",
       "release_year             \n",
       "2010          21804360476\n",
       "2011          23408245247\n",
       "2012          24151056032\n",
       "2013          24350666103\n",
       "2014          24069969357\n",
       "2015          26202922801"
      ]
     },
     "execution_count": 51,
     "metadata": {},
     "output_type": "execute_result"
    }
   ],
   "source": [
    "df_temp = df.query('release_year >= 2010')[['revenue', 'release_year']].groupby('release_year').sum()\n",
    "df_temp"
   ]
  },
  {
   "cell_type": "markdown",
   "metadata": {},
   "source": [
    "Then state the histogram based on the temporary df"
   ]
  },
  {
   "cell_type": "code",
   "execution_count": 53,
   "metadata": {},
   "outputs": [
    {
     "data": {
      "text/plain": [
       "Text(0, 0.5, 'Total Revenue')"
      ]
     },
     "execution_count": 53,
     "metadata": {},
     "output_type": "execute_result"
    },
    {
     "data": {
      "image/png": "[encoded data removed]",
      "text/plain": [
       "<Figure size 432x288 with 1 Axes>"
      ]
     },
     "metadata": {
      "needs_background": "light"
     },
     "output_type": "display_data"
    }
   ],
   "source": [
    "years = ['2010', '2011', '2012', '2013', '2014', '2015']\n",
    "plt.bar(years, df_temp['revenue'])\n",
    "plt.title('The revenues from 2015 until now', fontsize = 15)\n",
    "plt.xlabel('Years', fontsize = 15)\n",
    "plt.ylabel('Total Revenue', fontsize = 15)"
   ]
  },
  {
   "cell_type": "markdown",
   "metadata": {},
   "source": [
    "<a id = 'Q3'></a>\n",
    "#### Q13: What is the profit difference before 2000 and after 2000?"
   ]
  },
  {
   "cell_type": "code",
   "execution_count": 54,
   "metadata": {},
   "outputs": [
    {
     "data": {
      "text/plain": [
       "116607101546"
      ]
     },
     "execution_count": 54,
     "metadata": {},
     "output_type": "execute_result"
    }
   ],
   "source": [
    "df.query('release_year >= 2000')['profit'].sum() - df.query('release_year < 2000')['profit'].sum()"
   ]
  },
  {
   "cell_type": "markdown",
   "metadata": {},
   "source": [
    "<a id = 'Q4'></a>\n",
    "#### Q14: What is the difference in movies length before 2000s and after 2000s?"
   ]
  },
  {
   "cell_type": "code",
   "execution_count": 55,
   "metadata": {},
   "outputs": [
    {
     "name": "stdout",
     "output_type": "stream",
     "text": [
      "The average of movies length before 2000s was 111.30229120473022 \n",
      "The average of movies length after 2000s is 108.08733974358974\n"
     ]
    }
   ],
   "source": [
    "mean_af = df.query('release_year >= 2000')['runtime'].mean()\n",
    "mean_be = df.query('release_year < 2000')['runtime'].mean()\n",
    "print('The average of movies length before 2000s was {} \\nThe average of movies length after 2000s is {}'.format(mean_be, mean_af))"
   ]
  },
  {
   "cell_type": "markdown",
   "metadata": {},
   "source": [
    "Seems that the movies has been limited after 2000s by about 6.5 minutes."
   ]
  },
  {
   "cell_type": "markdown",
   "metadata": {},
   "source": [
    "<a id='conclusions'></a>\n",
    "## Conclusions\n",
    "> **After investigating the data frame we knew the following:**\n",
    "    <ul>\n",
    "        <li>The correlation between the budget and the popularity is 0.54 means if the budget is high that does mean that the movie has chance to be popular.</li>\n",
    "        <li>The voting results does not return the popularity, because the correlation between them is weak 0.2</li>\n",
    "        <li>The correlation between the profit and the popularity is a bit strong 0.62 means that the profit shows the popularity.</li>\n",
    "        <li>**Avatar** movie makes the biggest revenue ever with 2.7 Billion Dollars.</li>\n",
    "        <li>**The Dark Knight** has the highest voting rate as action movie.</li>\n",
    "        <li>**Robert Schwentke** has directed 5 movies.</li>\n",
    "        <li>**vin diesel** was active every year from 1999 until 2015 except 2007, 2010 and 2012.</li>\n",
    "        <li>**The Godfather** is the top rated movie in 70s with 8.3 vote rating.</li>\n",
    "        <li>**Christopher Nolan** is the most popular director ever.</li>\n",
    "        <li>movies revenue had a drop in 2014 but returns stronger in 2015.</li>\n",
    "        <li>the movies profits has increases after 2000s by about **14M $**.</li>\n",
    "        <li>the movies has limited its length by about **6.8** minutes.</li>\n",
    "    </ul>\n",
    "> ### DataFrame limitations\n",
    "- Of course there's some limitations on this data frame that limited our investigate like the missing data in the production companies column, If this column was clear of missing data we would uses it to investigate more and more in the data frame.\n",
    "- Also the big amount of 0 values in the budget and revenue columns also affected on our results but generally i think we did great job on this data frame under these limitations."
   ]
  }
 ],
 "metadata": {
  "kernelspec": {
   "display_name": "Python 3 (ipykernel)",
   "language": "python",
   "name": "python3"
  },
  "language_info": {
   "codemirror_mode": {
    "name": "ipython",
    "version": 3
   },
   "file_extension": ".py",
   "mimetype": "text/x-python",
   "name": "python",
   "nbconvert_exporter": "python",
   "pygments_lexer": "ipython3",
   "version": "3.10.5"
  }
 },
 "nbformat": 4,
 "nbformat_minor": 2
}
